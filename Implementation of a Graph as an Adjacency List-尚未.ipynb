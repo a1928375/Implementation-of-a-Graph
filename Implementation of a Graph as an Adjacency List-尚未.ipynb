{
 "cells": [
  {
   "cell_type": "markdown",
   "metadata": {},
   "source": [
    "# Mine"
   ]
  },
  {
   "cell_type": "code",
   "execution_count": null,
   "metadata": {},
   "outputs": [],
   "source": []
  },
  {
   "cell_type": "markdown",
   "metadata": {},
   "source": [
    "# Instructor"
   ]
  },
  {
   "cell_type": "code",
   "execution_count": 1,
   "metadata": {},
   "outputs": [],
   "source": [
    "class Vertex:\n",
    "    \n",
    "    def __init__(self,key):\n",
    "        \n",
    "        self.id = key\n",
    "        self.connectedTo = {}\n",
    "\n",
    "    def addNeighbor(self,nbr,weight=0):\n",
    "        \n",
    "        self.connectedTo[nbr] = weight\n",
    "\n",
    "    def __str__(self):\n",
    "        \n",
    "        return str(self.id) + ' connectedTo: ' + str([x.id for x in self.connectedTo])\n",
    "\n",
    "    def getConnections(self):\n",
    "        \n",
    "        return self.connectedTo.keys()\n",
    "\n",
    "    def getId(self):\n",
    "        \n",
    "        return self.id\n",
    "\n",
    "    def getWeight(self,nbr):\n",
    "        \n",
    "        return self.connectedTo[nbr]"
   ]
  },
  {
   "cell_type": "code",
   "execution_count": 2,
   "metadata": {},
   "outputs": [],
   "source": [
    "class Graph:\n",
    "    \n",
    "    def __init__(self):\n",
    "        \n",
    "        self.vertList = {}\n",
    "        self.numVertices = 0\n",
    "\n",
    "    def addVertex(self,key):\n",
    "        \n",
    "        self.numVertices = self.numVertices + 1\n",
    "        \n",
    "        newVertex = Vertex(key)\n",
    "        \n",
    "        self.vertList[key] = newVertex\n",
    "        \n",
    "        return newVertex\n",
    "\n",
    "    def getVertex(self,n):\n",
    "        \n",
    "        if n in self.vertList:\n",
    "            \n",
    "            return self.vertList[n]\n",
    "        \n",
    "        else:\n",
    "            \n",
    "            return None\n",
    "\n",
    "    def __contains__(self,n):\n",
    "        \n",
    "        return n in self.vertList\n",
    "\n",
    "    def addEdge(self, f, t, cost = 0):\n",
    "        \n",
    "        if f not in self.vertList:\n",
    "            \n",
    "            self.addVertex(f)\n",
    "            \n",
    "        if t not in self.vertList:\n",
    "            \n",
    "            self.addVertex(t)\n",
    "            \n",
    "        self.vertList[f].addNeighbor(self.vertList[t], cost)\n",
    "\n",
    "    def getVertices(self):\n",
    "        \n",
    "        return self.vertList.keys()\n",
    "\n",
    "    def __iter__(self):                     #要有此function才能寫  \"for vertex in g:\"\n",
    "        \n",
    "        return iter(self.vertList.values()) #此處是要寫values()，因為vertList的value才是vertex instance (value也是dictionary)，所以底下才能print vertex.getConnections()"
   ]
  },
  {
   "cell_type": "code",
   "execution_count": 3,
   "metadata": {},
   "outputs": [
    {
     "name": "stdout",
     "output_type": "stream",
     "text": [
      "0 connectedTo: [1]\n",
      "dict_keys([<__main__.Vertex object at 0x000001B00434D208>])\n",
      "\n",
      "\n",
      "1 connectedTo: []\n",
      "dict_keys([])\n",
      "\n",
      "\n",
      "2 connectedTo: [3]\n",
      "dict_keys([<__main__.Vertex object at 0x000001B00434D198>])\n",
      "\n",
      "\n",
      "3 connectedTo: []\n",
      "dict_keys([])\n",
      "\n",
      "\n",
      "4 connectedTo: []\n",
      "dict_keys([])\n",
      "\n",
      "\n",
      "5 connectedTo: []\n",
      "dict_keys([])\n",
      "\n",
      "\n"
     ]
    }
   ],
   "source": [
    "g = Graph()\n",
    "\n",
    "for i in range(6):\n",
    "    \n",
    "    g.addVertex(i)\n",
    "    \n",
    "g.vertList\n",
    "\n",
    "g.addEdge(0,1,2)\n",
    "g.addEdge(2,3,3)\n",
    "\n",
    "for vertex in g:\n",
    "    \n",
    "    print (vertex)\n",
    "    print (vertex.getConnections())\n",
    "    print ('\\n')"
   ]
  }
 ],
 "metadata": {
  "kernelspec": {
   "display_name": "Python 3",
   "language": "python",
   "name": "python3"
  },
  "language_info": {
   "codemirror_mode": {
    "name": "ipython",
    "version": 3
   },
   "file_extension": ".py",
   "mimetype": "text/x-python",
   "name": "python",
   "nbconvert_exporter": "python",
   "pygments_lexer": "ipython3",
   "version": "3.7.3"
  }
 },
 "nbformat": 4,
 "nbformat_minor": 2
}
